{
 "cells": [
  {
   "cell_type": "code",
   "execution_count": 4,
   "id": "da3c3c46-613f-4b12-bee0-ac0084a3d22e",
   "metadata": {},
   "outputs": [
    {
     "name": "stdout",
     "output_type": "stream",
     "text": [
      "Welcome to Tic Tac Toe!\n",
      "1. Play\n",
      "2. Check High Scores\n"
     ]
    },
    {
     "name": "stdin",
     "output_type": "stream",
     "text": [
      "Choose an option (1/2):  1\n",
      "Choose mode: PVP (1) or PVC (2):  1\n"
     ]
    },
    {
     "name": "stdout",
     "output_type": "stream",
     "text": [
      "  |   |  \n",
      "-----\n",
      "  |   |  \n",
      "-----\n",
      "  |   |  \n",
      "-----\n",
      "Player X's turn.\n"
     ]
    },
    {
     "name": "stdin",
     "output_type": "stream",
     "text": [
      "Enter position (1-9):  8\n"
     ]
    },
    {
     "name": "stdout",
     "output_type": "stream",
     "text": [
      "  | X |  \n",
      "-----\n",
      "  |   |  \n",
      "-----\n",
      "  |   |  \n",
      "-----\n",
      "Player O's turn.\n"
     ]
    },
    {
     "name": "stdin",
     "output_type": "stream",
     "text": [
      "Enter position (1-9):  1\n"
     ]
    },
    {
     "name": "stdout",
     "output_type": "stream",
     "text": [
      "  | X |  \n",
      "-----\n",
      "  |   |  \n",
      "-----\n",
      "O |   |  \n",
      "-----\n",
      "Player X's turn.\n"
     ]
    },
    {
     "name": "stdin",
     "output_type": "stream",
     "text": [
      "Enter position (1-9):  6\n"
     ]
    },
    {
     "name": "stdout",
     "output_type": "stream",
     "text": [
      "  | X |  \n",
      "-----\n",
      "  |   | X\n",
      "-----\n",
      "O |   |  \n",
      "-----\n",
      "Player O's turn.\n"
     ]
    },
    {
     "name": "stdin",
     "output_type": "stream",
     "text": [
      "Enter position (1-9):  4\n"
     ]
    },
    {
     "name": "stdout",
     "output_type": "stream",
     "text": [
      "  | X |  \n",
      "-----\n",
      "O |   | X\n",
      "-----\n",
      "O |   |  \n",
      "-----\n",
      "Player X's turn.\n"
     ]
    },
    {
     "name": "stdin",
     "output_type": "stream",
     "text": [
      "Enter position (1-9):  7\n"
     ]
    },
    {
     "name": "stdout",
     "output_type": "stream",
     "text": [
      "X | X |  \n",
      "-----\n",
      "O |   | X\n",
      "-----\n",
      "O |   |  \n",
      "-----\n",
      "Player O's turn.\n"
     ]
    },
    {
     "name": "stdin",
     "output_type": "stream",
     "text": [
      "Enter position (1-9):  9\n"
     ]
    },
    {
     "name": "stdout",
     "output_type": "stream",
     "text": [
      "X | X | O\n",
      "-----\n",
      "O |   | X\n",
      "-----\n",
      "O |   |  \n",
      "-----\n",
      "Player X's turn.\n"
     ]
    },
    {
     "name": "stdin",
     "output_type": "stream",
     "text": [
      "Enter position (1-9):  5\n"
     ]
    },
    {
     "name": "stdout",
     "output_type": "stream",
     "text": [
      "X | X | O\n",
      "-----\n",
      "O | X | X\n",
      "-----\n",
      "O |   |  \n",
      "-----\n",
      "Player O's turn.\n"
     ]
    },
    {
     "name": "stdin",
     "output_type": "stream",
     "text": [
      "Enter position (1-9):  2\n"
     ]
    },
    {
     "name": "stdout",
     "output_type": "stream",
     "text": [
      "X | X | O\n",
      "-----\n",
      "O | X | X\n",
      "-----\n",
      "O | O |  \n",
      "-----\n",
      "Player X's turn.\n"
     ]
    },
    {
     "name": "stdin",
     "output_type": "stream",
     "text": [
      "Enter position (1-9):  3\n"
     ]
    },
    {
     "name": "stdout",
     "output_type": "stream",
     "text": [
      "X | X | O\n",
      "-----\n",
      "O | X | X\n",
      "-----\n",
      "O | O | X\n",
      "-----\n",
      "Player X wins!\n"
     ]
    },
    {
     "name": "stdin",
     "output_type": "stream",
     "text": [
      "Do you want to play again? (y/n):  y\n"
     ]
    },
    {
     "name": "stdout",
     "output_type": "stream",
     "text": [
      "Welcome to Tic Tac Toe!\n",
      "1. Play\n",
      "2. Check High Scores\n"
     ]
    },
    {
     "name": "stdin",
     "output_type": "stream",
     "text": [
      "Choose an option (1/2):  2\n"
     ]
    },
    {
     "name": "stdout",
     "output_type": "stream",
     "text": [
      "High Scores:\n",
      "PVP:\n",
      "  XWins: 5\n",
      "  O Wins: 3\n",
      "  Draws: 1\n",
      "PVC:\n",
      "  Player Wins: 6\n",
      "  Computer Wins: 1\n",
      "  Draws: 3\n"
     ]
    },
    {
     "data": {
      "image/png": "[encoded data removed]",
      "text/plain": [
       "<Figure size 1200x600 with 2 Axes>"
      ]
     },
     "metadata": {},
     "output_type": "display_data"
    },
    {
     "name": "stdin",
     "output_type": "stream",
     "text": [
      "Do you want to play again? (y/n):  n\n"
     ]
    }
   ],
   "source": [
    "import random\n",
    "import matplotlib.pyplot as plt\n",
    "import json\n",
    "import os\n",
    "\n",
    "def load_high_scores(file_name=\"high_scores.json\"):\n",
    "    if os.path.exists(file_name):\n",
    "        try:\n",
    "            with open(file_name, \"r\") as file:\n",
    "                data = json.load(file)\n",
    "                # Ensure both 'PVP' and 'PVC' sections exist with 'Draw'\n",
    "                data.setdefault(\"PVP\", {\"X\": 0, \"O\": 0, \"Draw\": 0})\n",
    "                data.setdefault(\"PVC\", {\"Player\": 0, \"Computer\": 0, \"Draw\": 0})\n",
    "                return data\n",
    "        except (json.JSONDecodeError, ValueError):\n",
    "            print(\"High scores file is corrupted or invalid. Resetting scores.\")\n",
    "    # Return default structure if no file or file is corrupted\n",
    "    return {\"PVP\": {\"X\": 0, \"O\": 0, \"Draw\": 0}, \"PVC\": {\"Player\": 0, \"Computer\": 0, \"Draw\": 0}}\n",
    "\n",
    "# Function to save high scores to a file\n",
    "def save_high_scores(high_scores, file_name=\"high_scores.json\"):\n",
    "    with open(file_name, \"w\") as file:\n",
    "        json.dump(high_scores, file)\n",
    "\n",
    "# Load high scores\n",
    "high_scores = load_high_scores()\n",
    "\n",
    "def print_board(board):\n",
    "    for row in board:\n",
    "        print(\" | \".join(row))\n",
    "        print(\"-\" * 5)\n",
    "\n",
    "def check_winner(board):\n",
    "    # Check rows and columns\n",
    "    for i in range(3):\n",
    "        if board[i][0] == board[i][1] == board[i][2] != ' ':\n",
    "            return board[i][0]\n",
    "        if board[0][i] == board[1][i] == board[2][i] != ' ':\n",
    "            return board[0][i]\n",
    "\n",
    "    # Check diagonals\n",
    "    if board[0][0] == board[1][1] == board[2][2] != ' ':\n",
    "        return board[0][0]\n",
    "    if board[0][2] == board[1][1] == board[2][0] != ' ':\n",
    "        return board[0][2]\n",
    "\n",
    "    return None\n",
    "\n",
    "def is_full(board):\n",
    "    return all(cell != ' ' for row in board for cell in row)\n",
    "\n",
    "def position_to_indices(position):\n",
    "    position_map = {\n",
    "        7: (0, 0), 8: (0, 1), 9: (0, 2),\n",
    "        4: (1, 0), 5: (1, 1), 6: (1, 2),\n",
    "        1: (2, 0), 2: (2, 1), 3: (2, 2)\n",
    "    }\n",
    "    return position_map.get(position, None)\n",
    "\n",
    "def computer_move_moderate(board):\n",
    "    available_positions = [pos for pos in range(1, 10) if board[position_to_indices(pos)[0]][position_to_indices(pos)[1]] == ' ']\n",
    "    return random.choice(available_positions)\n",
    "\n",
    "def computer_move_hard(board, computer, player):\n",
    "    # Check if computer can win\n",
    "    for pos in range(1, 10):\n",
    "        indices = position_to_indices(pos)\n",
    "        if board[indices[0]][indices[1]] == ' ':\n",
    "            board[indices[0]][indices[1]] = computer\n",
    "            if check_winner(board) == computer:\n",
    "                board[indices[0]][indices[1]] = ' '\n",
    "                return pos\n",
    "            board[indices[0]][indices[1]] = ' '\n",
    "\n",
    "    # Check if player can win and block\n",
    "    for pos in range(1, 10):\n",
    "        indices = position_to_indices(pos)\n",
    "        if board[indices[0]][indices[1]] == ' ':\n",
    "            board[indices[0]][indices[1]] = player\n",
    "            if check_winner(board) == player:\n",
    "                board[indices[0]][indices[1]] = ' '\n",
    "                return pos\n",
    "            board[indices[0]][indices[1]] = ' '\n",
    "\n",
    "    # Choose random position\n",
    "    return computer_move_moderate(board)\n",
    "\n",
    "def display_high_scores():\n",
    "    print(\"High Scores:\")\n",
    "    print(\"PVP:\")\n",
    "    print(f\"  XWins: {high_scores['PVP']['X']}\")\n",
    "    print(f\"  O Wins: {high_scores['PVP']['O']}\")\n",
    "    print(f\"  Draws: {high_scores['PVP']['Draw']}\")\n",
    "    print(\"PVC:\")\n",
    "    print(f\"  Player Wins: {high_scores['PVC']['Player']}\")\n",
    "    print(f\"  Computer Wins: {high_scores['PVC']['Computer']}\")\n",
    "    print(f\"  Draws: {high_scores['PVC']['Draw']}\")\n",
    "\n",
    "    # PVP Pie Chart\n",
    "    pvp_labels = [\"X Wins\", \"O Wins\", \"Draws\"]\n",
    "    pvp_values = [high_scores['PVP']['X'], high_scores['PVP']['O'], high_scores['PVP']['Draw']]\n",
    "    pvp_colors = ['blue', 'orange', 'gray']\n",
    "\n",
    "    # PVC Pie Chart\n",
    "    pvc_labels = [\"Player Wins\", \"Computer Wins\", \"Draws\"]\n",
    "    pvc_values = [high_scores['PVC']['Player'], high_scores['PVC']['Computer'], high_scores['PVC']['Draw']]\n",
    "    pvc_colors = ['green', 'red', 'gray']\n",
    "\n",
    "    plt.figure(figsize=(12, 6))\n",
    "\n",
    "    # Plot PVP Pie Chart\n",
    "    plt.subplot(1, 2, 1)\n",
    "    if sum(pvp_values) == 0:\n",
    "        plt.text(0.5, 0.5, \"No Data\", ha='center', va='center', fontsize=12)\n",
    "        plt.axis(\"off\")\n",
    "    else:\n",
    "        plt.pie(pvp_values, labels=pvp_labels, autopct=\"%1.1f%%\", startangle=90, colors=pvp_colors)\n",
    "    plt.title(\"PVP High Scores\")\n",
    "\n",
    "    # Plot PVC Pie Chart\n",
    "    plt.subplot(1, 2, 2)\n",
    "    if sum(pvc_values) == 0:\n",
    "        plt.text(0.5, 0.5, \"No Data\", ha='center', va='center', fontsize=12)\n",
    "        plt.axis(\"off\")\n",
    "    else:\n",
    "        plt.pie(pvc_values, labels=pvc_labels, autopct=\"%1.1f%%\", startangle=90, colors=pvc_colors)\n",
    "    plt.title(\"PVC High Scores\")\n",
    "\n",
    "   \n",
    "\n",
    "    plt.show()\n",
    "\n",
    "def tic_tac_toe():\n",
    "    board = [[' ' for _ in range(3)] for _ in range(3)]\n",
    "    print(\"Welcome to Tic Tac Toe!\")\n",
    "    print(\"1. Play\")\n",
    "    print(\"2. Check High Scores\")\n",
    "    choice = input(\"Choose an option (1/2): \")\n",
    "\n",
    "    if choice == '2':\n",
    "        display_high_scores()\n",
    "        return\n",
    "\n",
    "    mode = input(\"Choose mode: PVP (1) or PVC (2): \")\n",
    "\n",
    "    if mode == '2':\n",
    "        difficulty = input(\"Choose difficulty: Moderate (1) or Hard (2): \")\n",
    "        player = 'X'\n",
    "        computer = 'O'\n",
    "\n",
    "    print_board(board)\n",
    "    current_player = 0  # 0 for Player 1, 1 for Player 2/Computer\n",
    "\n",
    "    while True:\n",
    "        if mode == '1' or (mode == '2' and current_player == 0):\n",
    "            print(f\"Player {['X', 'O'][current_player]}'s turn.\")\n",
    "            try:\n",
    "                position = int(input(\"Enter position (1-9): \"))\n",
    "            except ValueError:\n",
    "                print(\"Invalid input. Please enter a number between 1 and 9.\")\n",
    "                continue\n",
    "\n",
    "            if position not in range(1, 10):\n",
    "                print(\"Invalid position. Please enter a number between 1 and 9.\")\n",
    "                continue\n",
    "\n",
    "            indices = position_to_indices(position)\n",
    "            if not indices or board[indices[0]][indices[1]] != ' ':\n",
    "                print(\"Position already taken or invalid. Choose a different one.\")\n",
    "                continue\n",
    "        else:\n",
    "            if difficulty == '1':\n",
    "                position = computer_move_moderate(board)\n",
    "            else:\n",
    "                position = computer_move_hard(board, computer, player)\n",
    "            print(f\"Computer chooses position {position}.\")\n",
    "\n",
    "            indices = position_to_indices(position)\n",
    "\n",
    "        board[indices[0]][indices[1]] = ['X', 'O'][current_player]\n",
    "        print_board(board)\n",
    "\n",
    "        winner = check_winner(board)\n",
    "        if winner:\n",
    "            if mode == '1':  # PVP mode\n",
    "                print(f\"Player {winner} wins!\")\n",
    "                high_scores['PVP'][winner] += 1\n",
    "            else:  # PVC mode\n",
    "                if current_player == 0:  # Player\n",
    "                    print(\"Player wins!\")\n",
    "                    high_scores['PVC']['Player'] += 1\n",
    "                else:  # Computer\n",
    "                    print(\"Computer wins!\")\n",
    "                    high_scores['PVC']['Computer'] += 1\n",
    "            break\n",
    "\n",
    "        if is_full(board):\n",
    "            print(\"It's a draw!\")\n",
    "            if mode == '1':\n",
    "                high_scores['PVP']['Draw'] += 1\n",
    "            else:\n",
    "                high_scores['PVC']['Draw'] += 1\n",
    "            break\n",
    "\n",
    "        current_player = 1 - current_player\n",
    "\n",
    "    save_high_scores(high_scores)\n",
    "\n",
    "if __name__ == \"__main__\":\n",
    "    while True:\n",
    "        tic_tac_toe()\n",
    "        if input(\"Do you want to play again? (y/n): \").lower() != 'y':\n",
    "            break\n"
   ]
  },
  {
   "cell_type": "code",
   "execution_count": null,
   "id": "3955ee98-a7a4-4be5-b4b9-5c17d013d218",
   "metadata": {},
   "outputs": [],
   "source": []
  },
  {
   "cell_type": "code",
   "execution_count": null,
   "id": "b2959261-2122-4e96-b49c-1c6e174d6774",
   "metadata": {},
   "outputs": [],
   "source": []
  }
 ],
 "metadata": {
  "kernelspec": {
   "display_name": "Python 3 (ipykernel)",
   "language": "python",
   "name": "python3"
  },
  "language_info": {
   "codemirror_mode": {
    "name": "ipython",
    "version": 3
   },
   "file_extension": ".py",
   "mimetype": "text/x-python",
   "name": "python",
   "nbconvert_exporter": "python",
   "pygments_lexer": "ipython3",
   "version": "3.12.4"
  }
 },
 "nbformat": 4,
 "nbformat_minor": 5
}
